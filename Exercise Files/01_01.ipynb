{
 "cells": [
  {
   "cell_type": "code",
   "execution_count": 1,
   "metadata": {},
   "outputs": [],
   "source": [
    "import json"
   ]
  },
  {
   "cell_type": "code",
   "execution_count": 2,
   "metadata": {},
   "outputs": [],
   "source": [
    "# load json file from /data folder\n",
    "with open('data/monthlySalesbyCategoryMultiple.json') as json_data:\n",
    "    d = json.load(json_data)"
   ]
  },
  {
   "cell_type": "code",
   "execution_count": 5,
   "metadata": {},
   "outputs": [
    {
     "name": "stdout",
     "output_type": "stream",
     "text": [
      "{'contents': [{'category': 'Furniture',\n",
      "               'monthlySales': [{'month': 20130101, 'sales': 38},\n",
      "                                {'month': 20130201, 'sales': 35},\n",
      "                                {'month': 20130301, 'sales': 41},\n",
      "                                {'month': 20130401, 'sales': 55},\n",
      "                                {'month': 20130501, 'sales': 58},\n",
      "                                {'month': 20130601, 'sales': 66},\n",
      "                                {'month': 20130701, 'sales': 74},\n",
      "                                {'month': 20130801, 'sales': 78},\n",
      "                                {'month': 20130901, 'sales': 38},\n",
      "                                {'month': 20131001, 'sales': 30},\n",
      "                                {'month': 20131101, 'sales': 26},\n",
      "                                {'month': 20131201, 'sales': 29}],\n",
      "               'region': 'West'},\n",
      "              {'category': 'Technology',\n",
      "               'monthlySales': [{'month': 20130101, 'sales': 54},\n",
      "                                {'month': 20130201, 'sales': 66},\n",
      "                                {'month': 20130301, 'sales': 77},\n",
      "                                {'month': 20130401, 'sales': 70},\n",
      "                                {'month': 20130501, 'sales': 60},\n",
      "                                {'month': 20130601, 'sales': 63},\n",
      "                                {'month': 20130701, 'sales': 55},\n",
      "                                {'month': 20130801, 'sales': 47},\n",
      "                                {'month': 20130901, 'sales': 55},\n",
      "                                {'month': 20131001, 'sales': 30},\n",
      "                                {'month': 20131101, 'sales': 22},\n",
      "                                {'month': 20131201, 'sales': 77}],\n",
      "               'region': 'West'}]}\n"
     ]
    }
   ],
   "source": [
    "# see what the dictionary looks like\n",
    "from pprint import pprint as pp\n",
    "pp(d)"
   ]
  },
  {
   "cell_type": "code",
   "execution_count": 9,
   "metadata": {},
   "outputs": [
    {
     "name": "stdout",
     "output_type": "stream",
     "text": [
      "dict_keys(['contents'])\n"
     ]
    }
   ],
   "source": [
    "print(d.keys())\n",
    "\n",
    "# print keys at the top level"
   ]
  },
  {
   "cell_type": "code",
   "execution_count": 11,
   "metadata": {},
   "outputs": [
    {
     "name": "stdout",
     "output_type": "stream",
     "text": [
      "dict_values([[{'category': 'Furniture', 'region': 'West', 'monthlySales': [{'month': 20130101, 'sales': 38}, {'month': 20130201, 'sales': 35}, {'month': 20130301, 'sales': 41}, {'month': 20130401, 'sales': 55}, {'month': 20130501, 'sales': 58}, {'month': 20130601, 'sales': 66}, {'month': 20130701, 'sales': 74}, {'month': 20130801, 'sales': 78}, {'month': 20130901, 'sales': 38}, {'month': 20131001, 'sales': 30}, {'month': 20131101, 'sales': 26}, {'month': 20131201, 'sales': 29}]}, {'category': 'Technology', 'region': 'West', 'monthlySales': [{'month': 20130101, 'sales': 54}, {'month': 20130201, 'sales': 66}, {'month': 20130301, 'sales': 77}, {'month': 20130401, 'sales': 70}, {'month': 20130501, 'sales': 60}, {'month': 20130601, 'sales': 63}, {'month': 20130701, 'sales': 55}, {'month': 20130801, 'sales': 47}, {'month': 20130901, 'sales': 55}, {'month': 20131001, 'sales': 30}, {'month': 20131101, 'sales': 22}, {'month': 20131201, 'sales': 77}]}]])\n"
     ]
    }
   ],
   "source": [
    "\n",
    "print (d.values())"
   ]
  },
  {
   "cell_type": "code",
   "execution_count": 14,
   "metadata": {},
   "outputs": [
    {
     "name": "stdout",
     "output_type": "stream",
     "text": [
      "dict_keys(['category', 'region', 'monthlySales'])\n",
      "dict_keys(['category', 'region', 'monthlySales'])\n"
     ]
    }
   ],
   "source": [
    "#print key at second level\n",
    "for i in d['contents']:\n",
    "    print(i.keys())"
   ]
  },
  {
   "cell_type": "code",
   "execution_count": 18,
   "metadata": {},
   "outputs": [
    {
     "name": "stdout",
     "output_type": "stream",
     "text": [
      "dict_keys(['month', 'sales'])\n",
      "dict_keys(['month', 'sales'])\n",
      "dict_keys(['month', 'sales'])\n",
      "dict_keys(['month', 'sales'])\n",
      "dict_keys(['month', 'sales'])\n",
      "dict_keys(['month', 'sales'])\n",
      "dict_keys(['month', 'sales'])\n",
      "dict_keys(['month', 'sales'])\n",
      "dict_keys(['month', 'sales'])\n",
      "dict_keys(['month', 'sales'])\n",
      "dict_keys(['month', 'sales'])\n",
      "dict_keys(['month', 'sales'])\n",
      "dict_keys(['month', 'sales'])\n",
      "dict_keys(['month', 'sales'])\n",
      "dict_keys(['month', 'sales'])\n",
      "dict_keys(['month', 'sales'])\n",
      "dict_keys(['month', 'sales'])\n",
      "dict_keys(['month', 'sales'])\n",
      "dict_keys(['month', 'sales'])\n",
      "dict_keys(['month', 'sales'])\n",
      "dict_keys(['month', 'sales'])\n",
      "dict_keys(['month', 'sales'])\n",
      "dict_keys(['month', 'sales'])\n",
      "dict_keys(['month', 'sales'])\n"
     ]
    }
   ],
   "source": [
    "#values print at third level\n",
    "for i in d['contents']:\n",
    "    for j in i['monthlySales']:\n",
    "        print(j.keys())"
   ]
  },
  {
   "cell_type": "code",
   "execution_count": 24,
   "metadata": {},
   "outputs": [
    {
     "name": "stdout",
     "output_type": "stream",
     "text": [
      "[{'category': 'Furniture',\n",
      "  'monthlySales': [{'month': 20130101, 'sales': 38},\n",
      "                   {'month': 20130201, 'sales': 35},\n",
      "                   {'month': 20130301, 'sales': 41},\n",
      "                   {'month': 20130401, 'sales': 55},\n",
      "                   {'month': 20130501, 'sales': 58},\n",
      "                   {'month': 20130601, 'sales': 66},\n",
      "                   {'month': 20130701, 'sales': 74},\n",
      "                   {'month': 20130801, 'sales': 78},\n",
      "                   {'month': 20130901, 'sales': 38},\n",
      "                   {'month': 20131001, 'sales': 30},\n",
      "                   {'month': 20131101, 'sales': 26},\n",
      "                   {'month': 20131201, 'sales': 29}],\n",
      "  'region': 'West'},\n",
      " {'category': 'Technology',\n",
      "  'monthlySales': [{'month': 20130101, 'sales': 54},\n",
      "                   {'month': 20130201, 'sales': 66},\n",
      "                   {'month': 20130301, 'sales': 77},\n",
      "                   {'month': 20130401, 'sales': 70},\n",
      "                   {'month': 20130501, 'sales': 60},\n",
      "                   {'month': 20130601, 'sales': 63},\n",
      "                   {'month': 20130701, 'sales': 55},\n",
      "                   {'month': 20130801, 'sales': 47},\n",
      "                   {'month': 20130901, 'sales': 55},\n",
      "                   {'month': 20131001, 'sales': 30},\n",
      "                   {'month': 20131101, 'sales': 22},\n",
      "                   {'month': 20131201, 'sales': 77}],\n",
      "  'region': 'West'}]\n",
      "contents : None\n"
     ]
    }
   ],
   "source": [
    "#print keys and values fpr the first level\n",
    "\n",
    "for k,v in d.items():\n",
    "    print(k+\" :\",pp(v))"
   ]
  },
  {
   "cell_type": "code",
   "execution_count": 30,
   "metadata": {},
   "outputs": [
    {
     "name": "stdout",
     "output_type": "stream",
     "text": [
      "category : Furniture\n",
      "region : West\n",
      "monthlySales : [{'month': 20130101, 'sales': 38}, {'month': 20130201, 'sales': 35}, {'month': 20130301, 'sales': 41}, {'month': 20130401, 'sales': 55}, {'month': 20130501, 'sales': 58}, {'month': 20130601, 'sales': 66}, {'month': 20130701, 'sales': 74}, {'month': 20130801, 'sales': 78}, {'month': 20130901, 'sales': 38}, {'month': 20131001, 'sales': 30}, {'month': 20131101, 'sales': 26}, {'month': 20131201, 'sales': 29}]\n",
      "category : Technology\n",
      "region : West\n",
      "monthlySales : [{'month': 20130101, 'sales': 54}, {'month': 20130201, 'sales': 66}, {'month': 20130301, 'sales': 77}, {'month': 20130401, 'sales': 70}, {'month': 20130501, 'sales': 60}, {'month': 20130601, 'sales': 63}, {'month': 20130701, 'sales': 55}, {'month': 20130801, 'sales': 47}, {'month': 20130901, 'sales': 55}, {'month': 20131001, 'sales': 30}, {'month': 20131101, 'sales': 22}, {'month': 20131201, 'sales': 77}]\n"
     ]
    }
   ],
   "source": [
    "for a in d['contents']:\n",
    "    for k,v in a.items():\n",
    "        print(k+\" :\",(v))"
   ]
  },
  {
   "cell_type": "code",
   "execution_count": 25,
   "metadata": {},
   "outputs": [
    {
     "name": "stdout",
     "output_type": "stream",
     "text": [
      "category:  Furniture\n",
      "region:  West\n",
      "monthlySales:  [{'month': 20130101, 'sales': 38}, {'month': 20130201, 'sales': 35}, {'month': 20130301, 'sales': 41}, {'month': 20130401, 'sales': 55}, {'month': 20130501, 'sales': 58}, {'month': 20130601, 'sales': 66}, {'month': 20130701, 'sales': 74}, {'month': 20130801, 'sales': 78}, {'month': 20130901, 'sales': 38}, {'month': 20131001, 'sales': 30}, {'month': 20131101, 'sales': 26}, {'month': 20131201, 'sales': 29}]\n",
      "category:  Technology\n",
      "region:  West\n",
      "monthlySales:  [{'month': 20130101, 'sales': 54}, {'month': 20130201, 'sales': 66}, {'month': 20130301, 'sales': 77}, {'month': 20130401, 'sales': 70}, {'month': 20130501, 'sales': 60}, {'month': 20130601, 'sales': 63}, {'month': 20130701, 'sales': 55}, {'month': 20130801, 'sales': 47}, {'month': 20130901, 'sales': 55}, {'month': 20131001, 'sales': 30}, {'month': 20131101, 'sales': 22}, {'month': 20131201, 'sales': 77}]\n"
     ]
    }
   ],
   "source": [
    "# print the keys and values at the second level\n",
    "for a in d['contents']:\n",
    "    for key, value in a.items():\n",
    "        print (key + ': ', value)"
   ]
  },
  {
   "cell_type": "code",
   "execution_count": null,
   "metadata": {},
   "outputs": [],
   "source": [
    "# print the keys and values at the third level\n",
    "for a in d['contents']:\n",
    "    for b in a['monthlySales']:\n",
    "        for key, value in b.items():\n",
    "            print key + \": \", value"
   ]
  },
  {
   "cell_type": "code",
   "execution_count": null,
   "metadata": {
    "collapsed": true
   },
   "outputs": [],
   "source": []
  }
 ],
 "metadata": {
  "kernelspec": {
   "display_name": "Python 3",
   "language": "python",
   "name": "python3"
  },
  "language_info": {
   "codemirror_mode": {
    "name": "ipython",
    "version": 3
   },
   "file_extension": ".py",
   "mimetype": "text/x-python",
   "name": "python",
   "nbconvert_exporter": "python",
   "pygments_lexer": "ipython3",
   "version": "3.7.4"
  }
 },
 "nbformat": 4,
 "nbformat_minor": 2
}
